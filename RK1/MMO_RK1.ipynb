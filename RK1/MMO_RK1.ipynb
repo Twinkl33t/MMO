{
  "cells": [
    {
      "cell_type": "markdown",
      "metadata": {},
      "source": [
        "## Нищук Р. С. ИУ5-21М"
      ]
    },
    {
      "cell_type": "markdown",
      "metadata": {
        "id": "JKhE5eO7sz72"
      },
      "source": [
        "## <strong>Вариант 11</strong>\n",
        "\n",
        "Каждая задача предполагает использование набора данных. \n",
        "\n",
        "Набор данных выбирается Вами произвольно с учетом следующих условий:\n",
        "\n",
        "- Вы можете использовать один набор данных для решения всех задач, или решать каждую задачу на своем наборе данных.\n",
        "\n",
        "- Набор данных должен отличаться от набора данных, который использовался в лекции для решения рассматриваемой задачи.\n",
        "\n",
        "- Вы можете выбрать произвольный набор данных (например тот, который Вы использовали в лабораторных работах) или создать собственный набор данных (что актуально для некоторых задач, например, для задач удаления псевдоконстантных или повторяющихся признаков).\n",
        "\n",
        "- Выбранный или созданный Вами набор данных должен удовлетворять условиям поставленной задачи. Например, если решается задача устранения пропусков, то набор данных должен содержать пропуски.\n"
      ]
    },
    {
      "cell_type": "markdown",
      "metadata": {
        "id": "NwUFOReCPOrg"
      },
      "source": [
        "Номер задачи №1 - 11\n",
        "\n",
        "Номер задачи №2 - 31"
      ]
    },
    {
      "cell_type": "markdown",
      "metadata": {
        "id": "yCDS6G1ePPGH"
      },
      "source": [
        "# Задача №11.\n",
        "Для набора данных проведите устранение пропусков для одного (произвольного) категориального признака с использованием метода заполнения отдельной категорией для пропущенных значений."
      ]
    },
    {
      "cell_type": "markdown",
      "metadata": {
        "id": "xMbdm9yuPa_9"
      },
      "source": [
        "# Задача №31.\n",
        "Для набора данных проведите процедуру отбора признаков (feature selection). Используйте метод обертывания (wrapper method), прямой алгоритм (sequential forward selection)."
      ]
    },
    {
      "cell_type": "markdown",
      "metadata": {
        "id": "_r7MsfarPgJM"
      },
      "source": [
        "# Дополнительные требования:\n",
        "Для пары произвольных колонок данных построить график \"Диаграмма рассеяния\"."
      ]
    },
    {
      "cell_type": "markdown",
      "metadata": {
        "id": "zfKW5uZVtlVX"
      },
      "source": [
        "## Загрузка и первичный анализ данных"
      ]
    },
    {
      "cell_type": "code",
      "execution_count": 104,
      "metadata": {
        "id": "91UMM6xRywZ1"
      },
      "outputs": [],
      "source": [
        "import numpy as np\n",
        "import pandas as pd\n",
        "import matplotlib.pyplot as plt\n",
        "import seaborn as sns"
      ]
    },
    {
      "cell_type": "code",
      "execution_count": 105,
      "metadata": {
        "id": "xvQ_dgcl-7r8"
      },
      "outputs": [],
      "source": [
        "\n",
        "data = pd.read_csv('dataGDP.csv', sep=\",\")"
      ]
    },
    {
      "cell_type": "code",
      "execution_count": 106,
      "metadata": {
        "colab": {
          "base_uri": "https://localhost:8080/",
          "height": 357
        },
        "id": "5b6jo9Rw_jFQ",
        "outputId": "239cb6a7-8c80-4bff-e749-555b88b6fd3c"
      },
      "outputs": [
        {
          "data": {
            "text/html": [
              "<div>\n",
              "<style scoped>\n",
              "    .dataframe tbody tr th:only-of-type {\n",
              "        vertical-align: middle;\n",
              "    }\n",
              "\n",
              "    .dataframe tbody tr th {\n",
              "        vertical-align: top;\n",
              "    }\n",
              "\n",
              "    .dataframe thead th {\n",
              "        text-align: right;\n",
              "    }\n",
              "</style>\n",
              "<table border=\"1\" class=\"dataframe\">\n",
              "  <thead>\n",
              "    <tr style=\"text-align: right;\">\n",
              "      <th></th>\n",
              "      <th>num</th>\n",
              "      <th>year</th>\n",
              "      <th>emp</th>\n",
              "      <th>wage</th>\n",
              "      <th>wage2</th>\n",
              "      <th>cap</th>\n",
              "      <th>n</th>\n",
              "      <th>w</th>\n",
              "      <th>w2</th>\n",
              "      <th>filler</th>\n",
              "      <th>rec</th>\n",
              "      <th>yearm1</th>\n",
              "      <th>id</th>\n",
              "    </tr>\n",
              "  </thead>\n",
              "  <tbody>\n",
              "    <tr>\n",
              "      <th>0</th>\n",
              "      <td>1</td>\n",
              "      <td>1977</td>\n",
              "      <td>5.04099988937378</td>\n",
              "      <td>13.1516</td>\n",
              "      <td>NaN</td>\n",
              "      <td>0.589399993419647</td>\n",
              "      <td>1.617604</td>\n",
              "      <td>2.576543</td>\n",
              "      <td>2.061235</td>\n",
              "      <td>NaN</td>\n",
              "      <td>1</td>\n",
              "      <td>1977</td>\n",
              "      <td>1</td>\n",
              "    </tr>\n",
              "    <tr>\n",
              "      <th>1</th>\n",
              "      <td>2</td>\n",
              "      <td>1978</td>\n",
              "      <td>5.59999990463257</td>\n",
              "      <td>12.3018</td>\n",
              "      <td>NaN</td>\n",
              "      <td>0.6317999958992</td>\n",
              "      <td>1.722767</td>\n",
              "      <td>2.509746</td>\n",
              "      <td>2.007796</td>\n",
              "      <td>NaN</td>\n",
              "      <td>2</td>\n",
              "      <td>1977</td>\n",
              "      <td>1</td>\n",
              "    </tr>\n",
              "    <tr>\n",
              "      <th>2</th>\n",
              "      <td>3</td>\n",
              "      <td>1979</td>\n",
              "      <td>5.0149998664856</td>\n",
              "      <td>12.8395</td>\n",
              "      <td>NaN</td>\n",
              "      <td>0.677100002765656</td>\n",
              "      <td>1.612433</td>\n",
              "      <td>2.552526</td>\n",
              "      <td>2.042021</td>\n",
              "      <td>NaN</td>\n",
              "      <td>3</td>\n",
              "      <td>1978</td>\n",
              "      <td>1</td>\n",
              "    </tr>\n",
              "    <tr>\n",
              "      <th>3</th>\n",
              "      <td>4</td>\n",
              "      <td>1980</td>\n",
              "      <td>4.71500015258789</td>\n",
              "      <td>13.8039</td>\n",
              "      <td>NaN</td>\n",
              "      <td>0.61710000038147</td>\n",
              "      <td>1.550749</td>\n",
              "      <td>2.624951</td>\n",
              "      <td>2.099961</td>\n",
              "      <td>NaN</td>\n",
              "      <td>4</td>\n",
              "      <td>1979</td>\n",
              "      <td>1</td>\n",
              "    </tr>\n",
              "    <tr>\n",
              "      <th>4</th>\n",
              "      <td>5</td>\n",
              "      <td>1981</td>\n",
              "      <td>4.09299993515015</td>\n",
              "      <td>14.2897</td>\n",
              "      <td>NaN</td>\n",
              "      <td>0.507600009441376</td>\n",
              "      <td>1.409278</td>\n",
              "      <td>2.659539</td>\n",
              "      <td>2.127631</td>\n",
              "      <td>NaN</td>\n",
              "      <td>5</td>\n",
              "      <td>1980</td>\n",
              "      <td>1</td>\n",
              "    </tr>\n",
              "  </tbody>\n",
              "</table>\n",
              "</div>"
            ],
            "text/plain": [
              "   num  year               emp     wage  wage2                cap         n  \\\n",
              "0    1  1977  5.04099988937378  13.1516    NaN  0.589399993419647  1.617604   \n",
              "1    2  1978  5.59999990463257  12.3018    NaN    0.6317999958992  1.722767   \n",
              "2    3  1979   5.0149998664856  12.8395    NaN  0.677100002765656  1.612433   \n",
              "3    4  1980  4.71500015258789  13.8039    NaN   0.61710000038147  1.550749   \n",
              "4    5  1981  4.09299993515015  14.2897    NaN  0.507600009441376  1.409278   \n",
              "\n",
              "          w        w2  filler  rec  yearm1  id  \n",
              "0  2.576543  2.061235     NaN    1    1977   1  \n",
              "1  2.509746  2.007796     NaN    2    1977   1  \n",
              "2  2.552526  2.042021     NaN    3    1978   1  \n",
              "3  2.624951  2.099961     NaN    4    1979   1  \n",
              "4  2.659539  2.127631     NaN    5    1980   1  "
            ]
          },
          "execution_count": 106,
          "metadata": {},
          "output_type": "execute_result"
        }
      ],
      "source": [
        "data.head(5)"
      ]
    },
    {
      "cell_type": "markdown",
      "metadata": {
        "id": "-3RRKB-QUZTg"
      },
      "source": [
        "[Датасет] Составлен лично из открытых источников по финансовой ситуации и ВВП разных стран\n",
        "\n",
        "Информация об атрибутах:\n",
        "\n",
        "* num: номер записи начиная с 1\n",
        "\n",
        "*\tyear: год\n",
        "\n",
        "*\temp: employee - сотрудники\n",
        "\n",
        "*\twage: заработная плата\n",
        "\n",
        "*\twage2: надбавка к заработной плате\n",
        "\n",
        "*\tcap: капитал\n",
        "\n",
        "*\tn: ln(emp) - натуральный логарифм переменной emp для подсчёта линейной и GMM-регрессии\n",
        "\n",
        "*\tw: ln(emp) - натуральный логарифм переменной wage для подсчёта линейной и GMM-регрессии\n",
        "\n",
        "* w2: ln(emp) - натуральный логарифм переменной cap для подсчёта линейной и GMM-регрессии\n",
        "\n",
        "*\tfiller: пустой столбец для задания 11\n",
        "\n",
        "*\tyearm1: первый год для регрессионной модели (как правило сдвиг по столбцу на 1. Пример в первых двух строках)\n",
        "\n",
        "*\tid: идентификационный номер страны. 1 = Австралия, 2 = Австрия и т.д. Полный список стран имеется у студента."
      ]
    },
    {
      "cell_type": "code",
      "execution_count": 107,
      "metadata": {
        "colab": {
          "base_uri": "https://localhost:8080/"
        },
        "id": "dLTfi9Bl_qgH",
        "outputId": "c9ce4e0d-19e3-42ea-cc65-2aa90aeb26fc"
      },
      "outputs": [
        {
          "name": "stdout",
          "output_type": "stream",
          "text": [
            "<class 'pandas.core.frame.DataFrame'>\n",
            "RangeIndex: 1031 entries, 0 to 1030\n",
            "Data columns (total 13 columns):\n",
            " #   Column  Non-Null Count  Dtype  \n",
            "---  ------  --------------  -----  \n",
            " 0   num     1031 non-null   int64  \n",
            " 1   year    1031 non-null   int64  \n",
            " 2   emp     1031 non-null   object \n",
            " 3   wage    1031 non-null   float64\n",
            " 4   wage2   0 non-null      float64\n",
            " 5   cap     1031 non-null   object \n",
            " 6   n       1031 non-null   float64\n",
            " 7   w       1031 non-null   float64\n",
            " 8   w2      1031 non-null   float64\n",
            " 9   filler  0 non-null      float64\n",
            " 10  rec     1031 non-null   int64  \n",
            " 11  yearm1  1031 non-null   int64  \n",
            " 12  id      1031 non-null   int64  \n",
            "dtypes: float64(6), int64(5), object(2)\n",
            "memory usage: 104.8+ KB\n"
          ]
        }
      ],
      "source": [
        "data.info()"
      ]
    },
    {
      "cell_type": "code",
      "execution_count": 108,
      "metadata": {
        "colab": {
          "base_uri": "https://localhost:8080/",
          "height": 364
        },
        "id": "A9uAG_A2_uGX",
        "outputId": "c46607ea-42e8-4ed5-d150-a8c7965d5d21"
      },
      "outputs": [
        {
          "data": {
            "text/html": [
              "<div>\n",
              "<style scoped>\n",
              "    .dataframe tbody tr th:only-of-type {\n",
              "        vertical-align: middle;\n",
              "    }\n",
              "\n",
              "    .dataframe tbody tr th {\n",
              "        vertical-align: top;\n",
              "    }\n",
              "\n",
              "    .dataframe thead th {\n",
              "        text-align: right;\n",
              "    }\n",
              "</style>\n",
              "<table border=\"1\" class=\"dataframe\">\n",
              "  <thead>\n",
              "    <tr style=\"text-align: right;\">\n",
              "      <th></th>\n",
              "      <th>num</th>\n",
              "      <th>year</th>\n",
              "      <th>wage</th>\n",
              "      <th>wage2</th>\n",
              "      <th>n</th>\n",
              "      <th>w</th>\n",
              "      <th>w2</th>\n",
              "      <th>filler</th>\n",
              "      <th>rec</th>\n",
              "      <th>yearm1</th>\n",
              "      <th>id</th>\n",
              "    </tr>\n",
              "  </thead>\n",
              "  <tbody>\n",
              "    <tr>\n",
              "      <th>count</th>\n",
              "      <td>1031.000000</td>\n",
              "      <td>1031.000000</td>\n",
              "      <td>1031.000000</td>\n",
              "      <td>0.0</td>\n",
              "      <td>1031.000000</td>\n",
              "      <td>1031.000000</td>\n",
              "      <td>1031.000000</td>\n",
              "      <td>0.0</td>\n",
              "      <td>1031.000000</td>\n",
              "      <td>1031.000000</td>\n",
              "      <td>1031.000000</td>\n",
              "    </tr>\n",
              "    <tr>\n",
              "      <th>mean</th>\n",
              "      <td>516.000000</td>\n",
              "      <td>1979.650824</td>\n",
              "      <td>23.918803</td>\n",
              "      <td>NaN</td>\n",
              "      <td>1.056002</td>\n",
              "      <td>3.142988</td>\n",
              "      <td>2.514390</td>\n",
              "      <td>NaN</td>\n",
              "      <td>516.000000</td>\n",
              "      <td>1979.644035</td>\n",
              "      <td>73.203686</td>\n",
              "    </tr>\n",
              "    <tr>\n",
              "      <th>std</th>\n",
              "      <td>297.768366</td>\n",
              "      <td>2.216070</td>\n",
              "      <td>5.648418</td>\n",
              "      <td>NaN</td>\n",
              "      <td>1.341506</td>\n",
              "      <td>0.263008</td>\n",
              "      <td>0.210406</td>\n",
              "      <td>NaN</td>\n",
              "      <td>297.768366</td>\n",
              "      <td>2.213454</td>\n",
              "      <td>41.233331</td>\n",
              "    </tr>\n",
              "    <tr>\n",
              "      <th>min</th>\n",
              "      <td>1.000000</td>\n",
              "      <td>1976.000000</td>\n",
              "      <td>8.017100</td>\n",
              "      <td>NaN</td>\n",
              "      <td>-2.263364</td>\n",
              "      <td>2.081577</td>\n",
              "      <td>1.665261</td>\n",
              "      <td>NaN</td>\n",
              "      <td>1.000000</td>\n",
              "      <td>1976.000000</td>\n",
              "      <td>1.000000</td>\n",
              "    </tr>\n",
              "    <tr>\n",
              "      <th>25%</th>\n",
              "      <td>258.500000</td>\n",
              "      <td>1978.000000</td>\n",
              "      <td>20.636450</td>\n",
              "      <td>NaN</td>\n",
              "      <td>0.165938</td>\n",
              "      <td>3.027059</td>\n",
              "      <td>2.421647</td>\n",
              "      <td>NaN</td>\n",
              "      <td>258.500000</td>\n",
              "      <td>1978.000000</td>\n",
              "      <td>37.000000</td>\n",
              "    </tr>\n",
              "    <tr>\n",
              "      <th>50%</th>\n",
              "      <td>516.000000</td>\n",
              "      <td>1980.000000</td>\n",
              "      <td>24.006001</td>\n",
              "      <td>NaN</td>\n",
              "      <td>0.827241</td>\n",
              "      <td>3.178304</td>\n",
              "      <td>2.542643</td>\n",
              "      <td>NaN</td>\n",
              "      <td>516.000000</td>\n",
              "      <td>1980.000000</td>\n",
              "      <td>74.000000</td>\n",
              "    </tr>\n",
              "    <tr>\n",
              "      <th>75%</th>\n",
              "      <td>773.500000</td>\n",
              "      <td>1981.000000</td>\n",
              "      <td>27.493600</td>\n",
              "      <td>NaN</td>\n",
              "      <td>1.948761</td>\n",
              "      <td>3.313953</td>\n",
              "      <td>2.651163</td>\n",
              "      <td>NaN</td>\n",
              "      <td>773.500000</td>\n",
              "      <td>1981.000000</td>\n",
              "      <td>110.000000</td>\n",
              "    </tr>\n",
              "    <tr>\n",
              "      <th>max</th>\n",
              "      <td>1031.000000</td>\n",
              "      <td>1984.000000</td>\n",
              "      <td>45.231800</td>\n",
              "      <td>NaN</td>\n",
              "      <td>4.687321</td>\n",
              "      <td>3.811800</td>\n",
              "      <td>3.049440</td>\n",
              "      <td>NaN</td>\n",
              "      <td>1031.000000</td>\n",
              "      <td>1984.000000</td>\n",
              "      <td>140.000000</td>\n",
              "    </tr>\n",
              "  </tbody>\n",
              "</table>\n",
              "</div>"
            ],
            "text/plain": [
              "               num         year         wage  wage2            n            w  \\\n",
              "count  1031.000000  1031.000000  1031.000000    0.0  1031.000000  1031.000000   \n",
              "mean    516.000000  1979.650824    23.918803    NaN     1.056002     3.142988   \n",
              "std     297.768366     2.216070     5.648418    NaN     1.341506     0.263008   \n",
              "min       1.000000  1976.000000     8.017100    NaN    -2.263364     2.081577   \n",
              "25%     258.500000  1978.000000    20.636450    NaN     0.165938     3.027059   \n",
              "50%     516.000000  1980.000000    24.006001    NaN     0.827241     3.178304   \n",
              "75%     773.500000  1981.000000    27.493600    NaN     1.948761     3.313953   \n",
              "max    1031.000000  1984.000000    45.231800    NaN     4.687321     3.811800   \n",
              "\n",
              "                w2  filler          rec       yearm1           id  \n",
              "count  1031.000000     0.0  1031.000000  1031.000000  1031.000000  \n",
              "mean      2.514390     NaN   516.000000  1979.644035    73.203686  \n",
              "std       0.210406     NaN   297.768366     2.213454    41.233331  \n",
              "min       1.665261     NaN     1.000000  1976.000000     1.000000  \n",
              "25%       2.421647     NaN   258.500000  1978.000000    37.000000  \n",
              "50%       2.542643     NaN   516.000000  1980.000000    74.000000  \n",
              "75%       2.651163     NaN   773.500000  1981.000000   110.000000  \n",
              "max       3.049440     NaN  1031.000000  1984.000000   140.000000  "
            ]
          },
          "execution_count": 108,
          "metadata": {},
          "output_type": "execute_result"
        }
      ],
      "source": [
        "data.describe()"
      ]
    },
    {
      "cell_type": "markdown",
      "metadata": {
        "id": "5tANrjuEtMxT"
      },
      "source": [
        "# Задача №11.\n",
        "Для набора данных проведите устранение пропусков для одного (произвольного) категориального признака с использованием метода заполнения отдельной категорией для пропущенных значений.\n"
      ]
    },
    {
      "cell_type": "code",
      "execution_count": 109,
      "metadata": {
        "colab": {
          "base_uri": "https://localhost:8080/"
        },
        "id": "Mv-gpIrPVjbm",
        "outputId": "5cad3a51-4356-493b-f88f-2316b079dde6"
      },
      "outputs": [
        {
          "name": "stdout",
          "output_type": "stream",
          "text": [
            "Всего строк: 1031\n"
          ]
        }
      ],
      "source": [
        "total_count = data.shape[0]\n",
        "print('Всего строк: {}'.format(total_count))"
      ]
    },
    {
      "cell_type": "code",
      "execution_count": 110,
      "metadata": {},
      "outputs": [],
      "source": [
        "data['filler'].fillna('Not Stated', inplace = True)"
      ]
    },
    {
      "cell_type": "code",
      "execution_count": 111,
      "metadata": {},
      "outputs": [
        {
          "data": {
            "text/plain": [
              "0"
            ]
          },
          "execution_count": 111,
          "metadata": {},
          "output_type": "execute_result"
        }
      ],
      "source": [
        "data['filler'].isna().sum()"
      ]
    },
    {
      "cell_type": "code",
      "execution_count": 112,
      "metadata": {},
      "outputs": [
        {
          "data": {
            "text/html": [
              "<div>\n",
              "<style scoped>\n",
              "    .dataframe tbody tr th:only-of-type {\n",
              "        vertical-align: middle;\n",
              "    }\n",
              "\n",
              "    .dataframe tbody tr th {\n",
              "        vertical-align: top;\n",
              "    }\n",
              "\n",
              "    .dataframe thead th {\n",
              "        text-align: right;\n",
              "    }\n",
              "</style>\n",
              "<table border=\"1\" class=\"dataframe\">\n",
              "  <thead>\n",
              "    <tr style=\"text-align: right;\">\n",
              "      <th></th>\n",
              "      <th>year</th>\n",
              "      <th>filler</th>\n",
              "      <th>id</th>\n",
              "    </tr>\n",
              "  </thead>\n",
              "  <tbody>\n",
              "    <tr>\n",
              "      <th>0</th>\n",
              "      <td>1977</td>\n",
              "      <td>Not Stated</td>\n",
              "      <td>1</td>\n",
              "    </tr>\n",
              "    <tr>\n",
              "      <th>1</th>\n",
              "      <td>1978</td>\n",
              "      <td>Not Stated</td>\n",
              "      <td>1</td>\n",
              "    </tr>\n",
              "    <tr>\n",
              "      <th>2</th>\n",
              "      <td>1979</td>\n",
              "      <td>Not Stated</td>\n",
              "      <td>1</td>\n",
              "    </tr>\n",
              "    <tr>\n",
              "      <th>3</th>\n",
              "      <td>1980</td>\n",
              "      <td>Not Stated</td>\n",
              "      <td>1</td>\n",
              "    </tr>\n",
              "    <tr>\n",
              "      <th>4</th>\n",
              "      <td>1981</td>\n",
              "      <td>Not Stated</td>\n",
              "      <td>1</td>\n",
              "    </tr>\n",
              "    <tr>\n",
              "      <th>...</th>\n",
              "      <td>...</td>\n",
              "      <td>...</td>\n",
              "      <td>...</td>\n",
              "    </tr>\n",
              "    <tr>\n",
              "      <th>1026</th>\n",
              "      <td>1980</td>\n",
              "      <td>Not Stated</td>\n",
              "      <td>140</td>\n",
              "    </tr>\n",
              "    <tr>\n",
              "      <th>1027</th>\n",
              "      <td>1981</td>\n",
              "      <td>Not Stated</td>\n",
              "      <td>140</td>\n",
              "    </tr>\n",
              "    <tr>\n",
              "      <th>1028</th>\n",
              "      <td>1982</td>\n",
              "      <td>Not Stated</td>\n",
              "      <td>140</td>\n",
              "    </tr>\n",
              "    <tr>\n",
              "      <th>1029</th>\n",
              "      <td>1983</td>\n",
              "      <td>Not Stated</td>\n",
              "      <td>140</td>\n",
              "    </tr>\n",
              "    <tr>\n",
              "      <th>1030</th>\n",
              "      <td>1984</td>\n",
              "      <td>Not Stated</td>\n",
              "      <td>140</td>\n",
              "    </tr>\n",
              "  </tbody>\n",
              "</table>\n",
              "<p>1031 rows × 3 columns</p>\n",
              "</div>"
            ],
            "text/plain": [
              "      year      filler   id\n",
              "0     1977  Not Stated    1\n",
              "1     1978  Not Stated    1\n",
              "2     1979  Not Stated    1\n",
              "3     1980  Not Stated    1\n",
              "4     1981  Not Stated    1\n",
              "...    ...         ...  ...\n",
              "1026  1980  Not Stated  140\n",
              "1027  1981  Not Stated  140\n",
              "1028  1982  Not Stated  140\n",
              "1029  1983  Not Stated  140\n",
              "1030  1984  Not Stated  140\n",
              "\n",
              "[1031 rows x 3 columns]"
            ]
          },
          "execution_count": 112,
          "metadata": {},
          "output_type": "execute_result"
        }
      ],
      "source": [
        "data[data['filler'] == 'Not Stated'][['year','filler','id']]"
      ]
    },
    {
      "cell_type": "markdown",
      "metadata": {
        "id": "N8-9yauHYJIS"
      },
      "source": [
        "Все пустые значения были автоматически заменены на 'Not Stated'"
      ]
    },
    {
      "cell_type": "markdown",
      "metadata": {
        "id": "z0S-3gC2Y_Lf"
      },
      "source": [
        "# Задача №31.\n",
        "Для набора данных проведите процедуру отбора признаков (feature selection). Используйте метод обертывания (wrapper method), прямой алгоритм (sequential forward selection)."
      ]
    },
    {
      "cell_type": "code",
      "execution_count": 113,
      "metadata": {},
      "outputs": [],
      "source": [
        "import numpy as np\n",
        "import pandas as pd\n",
        "import matplotlib.pyplot as plt\n",
        "import seaborn as sns"
      ]
    },
    {
      "cell_type": "code",
      "execution_count": 114,
      "metadata": {
        "id": "uJxPtU90btLH"
      },
      "outputs": [],
      "source": [
        "data = pd.read_csv('dataGDP.csv', sep=\",\")"
      ]
    },
    {
      "cell_type": "code",
      "execution_count": 115,
      "metadata": {
        "colab": {
          "base_uri": "https://localhost:8080/"
        },
        "id": "atR5lTJXdwkd",
        "outputId": "d0826124-7b54-4f06-dab9-83a57916e908"
      },
      "outputs": [
        {
          "name": "stdout",
          "output_type": "stream",
          "text": [
            "<class 'pandas.core.frame.DataFrame'>\n",
            "RangeIndex: 1031 entries, 0 to 1030\n",
            "Data columns (total 13 columns):\n",
            " #   Column  Non-Null Count  Dtype  \n",
            "---  ------  --------------  -----  \n",
            " 0   num     1031 non-null   int64  \n",
            " 1   year    1031 non-null   int64  \n",
            " 2   emp     1031 non-null   object \n",
            " 3   wage    1031 non-null   float64\n",
            " 4   wage2   0 non-null      float64\n",
            " 5   cap     1031 non-null   object \n",
            " 6   n       1031 non-null   float64\n",
            " 7   w       1031 non-null   float64\n",
            " 8   w2      1031 non-null   float64\n",
            " 9   filler  0 non-null      float64\n",
            " 10  rec     1031 non-null   int64  \n",
            " 11  yearm1  1031 non-null   int64  \n",
            " 12  id      1031 non-null   int64  \n",
            "dtypes: float64(6), int64(5), object(2)\n",
            "memory usage: 104.8+ KB\n"
          ]
        }
      ],
      "source": [
        "data.info()"
      ]
    },
    {
      "cell_type": "code",
      "execution_count": 116,
      "metadata": {
        "id": "K1D5UfKJZSc3"
      },
      "outputs": [],
      "source": [
        "from sklearn.neighbors import KNeighborsClassifier\n",
        "from mlxtend.feature_selection import SequentialFeatureSelector as SFS"
      ]
    },
    {
      "cell_type": "markdown",
      "metadata": {},
      "source": [
        "Выберем \"id\" для прогнозирования"
      ]
    },
    {
      "cell_type": "code",
      "execution_count": 117,
      "metadata": {},
      "outputs": [],
      "source": [
        "X = data.drop(labels = 'n', axis = 1).copy(deep = True)\n",
        "Y = data['n'].copy(deep = True)\n",
        "knn = KNeighborsClassifier(n_neighbors=5)\n",
        "sfs = SFS(knn, forward = True, floating = False, k_features=5)"
      ]
    },
    {
      "cell_type": "code",
      "execution_count": null,
      "metadata": {},
      "outputs": [],
      "source": [
        "sfs.fit(X,Y)"
      ]
    },
    {
      "cell_type": "code",
      "execution_count": 119,
      "metadata": {},
      "outputs": [
        {
          "data": {
            "text/plain": [
              "{1: {'feature_idx': (0,),\n",
              "  'cv_scores': array([nan, nan, nan, nan, nan]),\n",
              "  'avg_score': nan,\n",
              "  'feature_names': ('num',)},\n",
              " 2: {'feature_idx': (0, 1),\n",
              "  'cv_scores': array([nan, nan, nan, nan, nan]),\n",
              "  'avg_score': nan,\n",
              "  'feature_names': ('num', 'year')},\n",
              " 3: {'feature_idx': (0, 1, 2),\n",
              "  'cv_scores': array([nan, nan, nan, nan, nan]),\n",
              "  'avg_score': nan,\n",
              "  'feature_names': ('num', 'year', 'emp')},\n",
              " 4: {'feature_idx': (0, 1, 2, 3),\n",
              "  'cv_scores': array([nan, nan, nan, nan, nan]),\n",
              "  'avg_score': nan,\n",
              "  'feature_names': ('num', 'year', 'emp', 'wage')},\n",
              " 5: {'feature_idx': (0, 1, 2, 3, 4),\n",
              "  'cv_scores': array([nan, nan, nan, nan, nan]),\n",
              "  'avg_score': nan,\n",
              "  'feature_names': ('num', 'year', 'emp', 'wage', 'wage2')}}"
            ]
          },
          "execution_count": 119,
          "metadata": {},
          "output_type": "execute_result"
        }
      ],
      "source": [
        "sfs.subsets_"
      ]
    },
    {
      "cell_type": "code",
      "execution_count": 120,
      "metadata": {},
      "outputs": [
        {
          "data": {
            "text/plain": [
              "<AxesSubplot:xlabel='n', ylabel='wage'>"
            ]
          },
          "execution_count": 120,
          "metadata": {},
          "output_type": "execute_result"
        },
        {
          "data": {
            "image/png": "[encoded data removed]",
            "text/plain": [
              "<Figure size 432x288 with 1 Axes>"
            ]
          },
          "metadata": {
            "needs_background": "light"
          },
          "output_type": "display_data"
        }
      ],
      "source": [
        "sns.violinplot(data = data, x = 'n', y = 'wage')"
      ]
    },
    {
      "cell_type": "markdown",
      "metadata": {
        "id": "pK5k1gj3_GF0"
      },
      "source": [
        "## Дополнительное задание\n",
        "Для пары произвольных колонок данных построить график \"Диаграмма рассеяния\".\n",
        "\n",
        "Построим диаграмму рассеяния, демонстрирующую зависимость температуры от месяца года\n",
        "\n"
      ]
    },
    {
      "cell_type": "code",
      "execution_count": 121,
      "metadata": {
        "id": "9XLz6QaufYcf"
      },
      "outputs": [],
      "source": [
        "data = pd.read_csv('dataGDP.csv', sep=\",\")"
      ]
    },
    {
      "cell_type": "code",
      "execution_count": 123,
      "metadata": {
        "colab": {
          "base_uri": "https://localhost:8080/",
          "height": 635
        },
        "id": "6dVnPOE09oTd",
        "outputId": "ee6a3c4c-9733-40fb-aeb6-a306f2008af6"
      },
      "outputs": [
        {
          "data": {
            "image/png": "[encoded data removed]",
            "text/plain": [
              "<Figure size 1800x1080 with 1 Axes>"
            ]
          },
          "metadata": {
            "needs_background": "light"
          },
          "output_type": "display_data"
        }
      ],
      "source": [
        "data.plot(x='year', y='wage', kind='scatter',  figsize=(25, 15)) ;\n",
        "plt.title(f'Показатели средней зарплаты по годам', fontsize=50);\n",
        "plt.ylim(0,50);\n",
        "plt.ylabel('Заработная плата');\n",
        "plt.xlabel('Год');\n",
        "plt.grid(True);\n"
      ]
    }
  ],
  "metadata": {
    "colab": {
      "provenance": [],
      "toc_visible": true
    },
    "kernelspec": {
      "display_name": "Python 3.8.9 64-bit",
      "language": "python",
      "name": "python3"
    },
    "language_info": {
      "codemirror_mode": {
        "name": "ipython",
        "version": 3
      },
      "file_extension": ".py",
      "mimetype": "text/x-python",
      "name": "python",
      "nbconvert_exporter": "python",
      "pygments_lexer": "ipython3",
      "version": "3.8.9"
    },
    "vscode": {
      "interpreter": {
        "hash": "4bcece36f3271991e5a3225799fbc81e18410458a02319e90e30ce554a5cd987"
      }
    }
  },
  "nbformat": 4,
  "nbformat_minor": 0
}
